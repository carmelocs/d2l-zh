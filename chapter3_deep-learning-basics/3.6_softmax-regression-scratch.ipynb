{
 "cells": [
  {
   "cell_type": "markdown",
   "metadata": {},
   "source": [
    "# softmax回归的从零开始实现\n",
    "\n",
    "这一节我们来动手实现softmax回归。首先导入本节实现所需的包或模块。"
   ]
  },
  {
   "cell_type": "code",
   "execution_count": 1,
   "metadata": {
    "attributes": {
     "classes": [],
     "id": "",
     "n": "1"
    }
   },
   "outputs": [],
   "source": [
    "%matplotlib inline\n",
    "import sys, os\n",
    "sys.path.append(os.pardir)\n",
    "import d2lzh as d2l\n",
    "from mxnet import autograd, nd\n",
    "import numpy as np"
   ]
  },
  {
   "cell_type": "markdown",
   "metadata": {},
   "source": [
    "## 读取数据集\n",
    "\n",
    "我们将使用Fashion-MNIST数据集，并设置批量大小为256。"
   ]
  },
  {
   "cell_type": "code",
   "execution_count": 2,
   "metadata": {
    "attributes": {
     "classes": [],
     "id": "",
     "n": "2"
    }
   },
   "outputs": [],
   "source": [
    "batch_size = 256\n",
    "train_iter, test_iter = d2l.load_data_fashion_mnist(batch_size)"
   ]
  },
  {
   "cell_type": "markdown",
   "metadata": {},
   "source": [
    "## 初始化模型参数\n",
    "\n",
    "跟线性回归中的例子一样，我们将使用向量表示每个样本。已知每个样本输入是高和宽均为28像素的图像。模型的输入向量的长度是$28 \\times 28 = 784$：该向量的每个元素对应图像中每个像素。由于图像有10个类别，单层神经网络输出层的输出个数为10，因此softmax回归的权重和偏差参数分别为$784 \\times 10$和$1 \\times 10$的矩阵。"
   ]
  },
  {
   "cell_type": "code",
   "execution_count": 4,
   "metadata": {
    "attributes": {
     "classes": [],
     "id": "",
     "n": "3"
    }
   },
   "outputs": [],
   "source": [
    "num_inputs = 784\n",
    "num_outputs = 10\n",
    "\n",
    "W = nd.random.normal(scale=0.01, shape=(num_inputs, num_outputs))\n",
    "b = nd.zeros(num_outputs)"
   ]
  },
  {
   "cell_type": "code",
   "execution_count": 5,
   "metadata": {},
   "outputs": [
    {
     "output_type": "stream",
     "name": "stdout",
     "text": [
      "(784, 10) (10,)\n"
     ]
    }
   ],
   "source": [
    "print(W.shape, b.shape)"
   ]
  },
  {
   "cell_type": "markdown",
   "metadata": {},
   "source": [
    "同之前一样，我们要为模型参数附上梯度。"
   ]
  },
  {
   "cell_type": "code",
   "execution_count": 6,
   "metadata": {
    "attributes": {
     "classes": [],
     "id": "",
     "n": "4"
    }
   },
   "outputs": [],
   "source": [
    "W.attach_grad()\n",
    "b.attach_grad()"
   ]
  },
  {
   "cell_type": "markdown",
   "metadata": {},
   "source": [
    "## 实现softmax运算\n",
    "\n",
    "在介绍如何定义softmax回归之前，我们先描述一下对如何对多维`NDArray`按维度操作。在下面的例子中，给定一个`NDArray`矩阵`X`。我们可以只对其中同一列（`axis=0`）或同一行（`axis=1`）的元素求和，并在结果中保留行和列这两个维度（`keepdims=True`）。"
   ]
  },
  {
   "cell_type": "code",
   "execution_count": 8,
   "metadata": {
    "attributes": {
     "classes": [],
     "id": "",
     "n": "5"
    }
   },
   "outputs": [
    {
     "output_type": "execute_result",
     "data": {
      "text/plain": [
       "(\n",
       " [[5. 7. 9.]]\n",
       " <NDArray 1x3 @cpu(0)>,\n",
       " \n",
       " [[ 6.]\n",
       "  [15.]]\n",
       " <NDArray 2x1 @cpu(0)>)"
      ]
     },
     "metadata": {},
     "execution_count": 8
    }
   ],
   "source": [
    "X = nd.array([[1, 2, 3], [4, 5, 6]])\n",
    "X.sum(axis=0, keepdims=True), X.sum(axis=1, keepdims=True)"
   ]
  },
  {
   "cell_type": "markdown",
   "metadata": {},
   "source": [
    "下面我们就可以定义前面小节里介绍的softmax运算了。在下面的函数中，矩阵`X`的行数是样本数，列数是输出个数。为了表达样本预测各个输出的概率，softmax运算会先通过`exp`函数对每个元素做指数运算，再对`exp`矩阵同行元素求和，最后令矩阵每行各元素与该行元素之和相除。这样一来，最终得到的矩阵每行元素和为1且非负。因此，该矩阵每行都是合法的概率分布。softmax运算的输出矩阵中的任意一行元素代表了一个样本在各个输出类别上的预测概率。"
   ]
  },
  {
   "cell_type": "code",
   "execution_count": 9,
   "metadata": {
    "attributes": {
     "classes": [],
     "id": "",
     "n": "6"
    }
   },
   "outputs": [],
   "source": [
    "def softmax(X):\n",
    "    X_exp = X.exp()\n",
    "    partition = X_exp.sum(axis=1, keepdims=True)\n",
    "    return X_exp / partition  # 这里应用了广播机制"
   ]
  },
  {
   "cell_type": "markdown",
   "metadata": {},
   "source": [
    "可以看到，对于随机输入，我们将每个元素变成了非负数，且每一行和为1。"
   ]
  },
  {
   "cell_type": "code",
   "execution_count": 10,
   "metadata": {
    "attributes": {
     "classes": [],
     "id": "",
     "n": "7"
    }
   },
   "outputs": [
    {
     "output_type": "execute_result",
     "data": {
      "text/plain": [
       "(\n",
       " [[0.21324193 0.33961776 0.1239742  0.27106097 0.05210521]\n",
       "  [0.11462264 0.3461234  0.19401033 0.29583326 0.04941036]]\n",
       " <NDArray 2x5 @cpu(0)>,\n",
       " \n",
       " [1.0000001 1.       ]\n",
       " <NDArray 2 @cpu(0)>)"
      ]
     },
     "metadata": {},
     "execution_count": 10
    }
   ],
   "source": [
    "X = nd.random.normal(shape=(2, 5))\n",
    "X_prob = softmax(X)\n",
    "X_prob, X_prob.sum(axis=1)"
   ]
  },
  {
   "cell_type": "markdown",
   "metadata": {},
   "source": [
    "## 定义模型\n",
    "\n",
    "有了softmax运算，我们可以定义上节描述的softmax回归模型了。这里通过`reshape`函数将每张原始图像改成长度为`num_inputs`的向量。"
   ]
  },
  {
   "cell_type": "code",
   "execution_count": 11,
   "metadata": {
    "attributes": {
     "classes": [],
     "id": "",
     "n": "8"
    }
   },
   "outputs": [],
   "source": [
    "def net(X):\n",
    "    return softmax(nd.dot(X.reshape((-1, num_inputs)), W) + b)"
   ]
  },
  {
   "cell_type": "markdown",
   "metadata": {},
   "source": [
    "## 定义损失函数\n",
    "\n",
    "上一节中，我们介绍了softmax回归使用的交叉熵损失函数。为了得到标签的预测概率，我们可以使用`pick`函数。在下面的例子中，变量`y_hat`是2个样本在3个类别的预测概率，变量`y`是这2个样本的标签类别。通过使用`pick`函数，我们得到了2个样本的标签的预测概率。与[“softmax回归”](softmax-regression.ipynb)一节数学表述中标签类别离散值从1开始逐一递增不同，在代码中，标签类别的离散值是从0开始逐一递增的。"
   ]
  },
  {
   "cell_type": "code",
   "execution_count": 13,
   "metadata": {
    "attributes": {
     "classes": [],
     "id": "",
     "n": "9"
    }
   },
   "outputs": [
    {
     "output_type": "execute_result",
     "data": {
      "text/plain": [
       "\n",
       "[0.1 0.5]\n",
       "<NDArray 2 @cpu(0)>"
      ]
     },
     "metadata": {},
     "execution_count": 13
    }
   ],
   "source": [
    "y_hat = nd.array([[0.1, 0.3, 0.6], [0.3, 0.2, 0.5]])\n",
    "y = nd.array([0, 2], dtype='int32')\n",
    "nd.pick(y_hat, y)"
   ]
  },
  {
   "cell_type": "markdown",
   "metadata": {},
   "source": [
    "下面实现了[“softmax回归”](softmax-regression.ipynb)一节中介绍的交叉熵损失函数。"
   ]
  },
  {
   "cell_type": "code",
   "execution_count": 14,
   "metadata": {
    "attributes": {
     "classes": [],
     "id": "",
     "n": "10"
    }
   },
   "outputs": [],
   "source": [
    "def cross_entropy(y_hat, y):\n",
    "    return -nd.pick(y_hat, y).log()"
   ]
  },
  {
   "cell_type": "markdown",
   "metadata": {},
   "source": [
    "## 计算分类准确率\n",
    "\n",
    "给定一个类别的预测概率分布`y_hat`，我们把预测概率最大的类别作为输出类别。如果它与真实类别`y`一致，说明这次预测是正确的。分类准确率即正确预测数量与总预测数量之比。\n",
    "\n",
    "为了演示准确率的计算，下面定义准确率`accuracy`函数。其中`y_hat.argmax(axis=1)`返回矩阵`y_hat`每行中最大元素的索引，且返回结果与变量`y`形状相同。我们在[“数据操作”](../chapter_prerequisite/ndarray.ipynb)一节介绍过，相等条件判别式`(y_hat.argmax(axis=1) == y)`是一个值为0（相等为假）或1（相等为真）的`NDArray`。由于标签类型为整数，我们先将变量`y`变换为浮点数再进行相等条件判断。"
   ]
  },
  {
   "cell_type": "code",
   "execution_count": 15,
   "metadata": {
    "attributes": {
     "classes": [],
     "id": "",
     "n": "11"
    }
   },
   "outputs": [],
   "source": [
    "def accuracy(y_hat, y):\n",
    "    return (y_hat.argmax(axis=1) == y.astype('float32')).mean().asscalar()"
   ]
  },
  {
   "cell_type": "markdown",
   "metadata": {},
   "source": [
    "让我们继续使用在演示`pick`函数时定义的变量`y_hat`和`y`，并将它们分别作为预测概率分布和标签。可以看到，第一个样本预测类别为2（该行最大元素0.6在本行的索引为2），与真实标签0不一致；第二个样本预测类别为2（该行最大元素0.5在本行的索引为2），与真实标签2一致。因此，这两个样本上的分类准确率为0.5。"
   ]
  },
  {
   "cell_type": "code",
   "execution_count": 16,
   "metadata": {
    "attributes": {
     "classes": [],
     "id": "",
     "n": "12"
    }
   },
   "outputs": [
    {
     "output_type": "execute_result",
     "data": {
      "text/plain": [
       "0.5"
      ]
     },
     "metadata": {},
     "execution_count": 16
    }
   ],
   "source": [
    "accuracy(y_hat, y)"
   ]
  },
  {
   "cell_type": "markdown",
   "metadata": {},
   "source": [
    "类似地，我们可以评价模型`net`在数据集`data_iter`上的准确率。"
   ]
  },
  {
   "cell_type": "code",
   "execution_count": 17,
   "metadata": {
    "attributes": {
     "classes": [],
     "id": "",
     "n": "13"
    }
   },
   "outputs": [],
   "source": [
    "# 本函数已保存在d2lzh包中方便以后使用。该函数将被逐步改进：它的完整实现将在“图像增广”一节中\n",
    "# 描述\n",
    "def evaluate_accuracy(data_iter, net):\n",
    "    acc_sum, n = 0.0, 0\n",
    "    for X, y in data_iter:\n",
    "        y = y.astype('float32')\n",
    "        acc_sum += (net(X).argmax(axis=1) == y).sum().asscalar()\n",
    "        n += y.size\n",
    "    return acc_sum / n"
   ]
  },
  {
   "cell_type": "markdown",
   "metadata": {},
   "source": [
    "因为我们随机初始化了模型`net`，所以这个随机模型的准确率应该接近于类别个数10的倒数0.1。"
   ]
  },
  {
   "cell_type": "code",
   "execution_count": 18,
   "metadata": {
    "attributes": {
     "classes": [],
     "id": "",
     "n": "14"
    }
   },
   "outputs": [
    {
     "output_type": "execute_result",
     "data": {
      "text/plain": [
       "0.0925"
      ]
     },
     "metadata": {},
     "execution_count": 18
    }
   ],
   "source": [
    "evaluate_accuracy(test_iter, net)"
   ]
  },
  {
   "cell_type": "markdown",
   "metadata": {},
   "source": [
    "## 训练模型\n",
    "\n",
    "训练softmax回归的实现与[“线性回归的从零开始实现”](linear-regression-scratch.ipynb)一节介绍的线性回归中的实现非常相似。我们同样使用小批量随机梯度下降来优化模型的损失函数。在训练模型时，迭代周期数`num_epochs`和学习率`lr`都是可以调的超参数。改变它们的值可能会得到分类更准确的模型。"
   ]
  },
  {
   "cell_type": "code",
   "execution_count": 19,
   "metadata": {
    "attributes": {
     "classes": [],
     "id": "",
     "n": "21"
    }
   },
   "outputs": [
    {
     "output_type": "stream",
     "name": "stdout",
     "text": [
      "epoch 1, loss 0.7874, train acc 0.747, test acc 0.806\n",
      "epoch 2, loss 0.5746, train acc 0.810, test acc 0.819\n",
      "epoch 3, loss 0.5288, train acc 0.824, test acc 0.825\n",
      "epoch 4, loss 0.5044, train acc 0.830, test acc 0.836\n",
      "epoch 5, loss 0.4903, train acc 0.833, test acc 0.842\n"
     ]
    }
   ],
   "source": [
    "num_epochs, lr = 5, 0.1\n",
    "\n",
    "# 本函数已保存在d2lzh包中方便以后使用\n",
    "def train_ch3(net, train_iter, test_iter, loss, num_epochs, batch_size,\n",
    "              params=None, lr=None, trainer=None):\n",
    "    for epoch in range(num_epochs):\n",
    "        train_l_sum, train_acc_sum, n = 0.0, 0.0, 0\n",
    "        for X, y in train_iter:\n",
    "            with autograd.record():\n",
    "                y_hat = net(X)\n",
    "                l = loss(y_hat, y).sum()\n",
    "            l.backward()\n",
    "            if trainer is None:\n",
    "                d2l.sgd(params, lr, batch_size)\n",
    "            else:\n",
    "                trainer.step(batch_size)  # “softmax回归的简洁实现”一节将用到\n",
    "            y = y.astype('float32')\n",
    "            train_l_sum += l.asscalar()\n",
    "            train_acc_sum += (y_hat.argmax(axis=1) == y).sum().asscalar()\n",
    "            n += y.size\n",
    "        test_acc = evaluate_accuracy(test_iter, net)\n",
    "        print('epoch %d, loss %.4f, train acc %.3f, test acc %.3f'\n",
    "              % (epoch + 1, train_l_sum / n, train_acc_sum / n, test_acc))\n",
    "\n",
    "train_ch3(net, train_iter, test_iter, cross_entropy, num_epochs, batch_size,\n",
    "          [W, b], lr)"
   ]
  },
  {
   "cell_type": "markdown",
   "metadata": {},
   "source": [
    "## 预测\n",
    "\n",
    "训练完成后，现在就可以演示如何对图像进行分类了。给定一系列图像（第三行图像输出），我们比较一下它们的真实标签（第一行文本输出）和模型预测结果（第二行文本输出）。"
   ]
  },
  {
   "cell_type": "code",
   "execution_count": 21,
   "metadata": {},
   "outputs": [
    {
     "output_type": "display_data",
     "data": {
      "text/plain": "<Figure size 864x864 with 9 Axes>",
      "image/svg+xml": "<?xml version=\"1.0\" encoding=\"utf-8\" standalone=\"no\"?>\n<!DOCTYPE svg PUBLIC \"-//W3C//DTD SVG 1.1//EN\"\n  \"http://www.w3.org/Graphics/SVG/1.1/DTD/svg11.dtd\">\n<svg height=\"109.625311pt\" version=\"1.1\" viewBox=\"0 0 687.5 109.625311\" width=\"687.5pt\" xmlns=\"http://www.w3.org/2000/svg\" xmlns:xlink=\"http://www.w3.org/1999/xlink\">\n <metadata>\n  <rdf:RDF xmlns:cc=\"http://creativecommons.org/ns#\" xmlns:dc=\"http://purl.org/dc/elements/1.1/\" xmlns:rdf=\"http://www.w3.org/1999/02/22-rdf-syntax-ns#\">\n   <cc:Work>\n    <dc:type rdf:resource=\"http://purl.org/dc/dcmitype/StillImage\"/>\n    <dc:date>2021-07-19T14:28:59.452592</dc:date>\n    <dc:format>image/svg+xml</dc:format>\n    <dc:creator>\n     <cc:Agent>\n      <dc:title>Matplotlib v3.4.2, https://matplotlib.org/</dc:title>\n     </cc:Agent>\n    </dc:creator>\n   </cc:Work>\n  </rdf:RDF>\n </metadata>\n <defs>\n  <style type=\"text/css\">*{stroke-linecap:butt;stroke-linejoin:round;}</style>\n </defs>\n <g id=\"figure_1\">\n  <g id=\"patch_1\">\n   <path d=\"M 0 109.625311 \nL 687.5 109.625311 \nL 687.5 0 \nL 0 0 \nz\n\" style=\"fill:none;\"/>\n  </g>\n  <g id=\"axes_1\">\n   <g id=\"patch_2\">\n    <path d=\"M 10.7 98.925311 \nL 73.869811 98.925311 \nL 73.869811 35.7555 \nL 10.7 35.7555 \nz\n\" style=\"fill:#ffffff;\"/>\n   </g>\n   <g clip-path=\"url(#p1c7cf8803b)\">\n    <image height=\"64\" id=\"image4fc0d0ea14\" transform=\"scale(1 -1)translate(0 -64)\" width=\"64\" x=\"10.7\" xlink:href=\"data:image/png;base64,\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\" y=\"-34.925311\"/>\n   </g>\n   <g id=\"patch_3\">\n    <path d=\"M 10.7 98.925311 \nL 10.7 35.7555 \n\" style=\"fill:none;stroke:#000000;stroke-linecap:square;stroke-linejoin:miter;stroke-width:0.8;\"/>\n   </g>\n   <g id=\"patch_4\">\n    <path d=\"M 73.869811 98.925311 \nL 73.869811 35.7555 \n\" style=\"fill:none;stroke:#000000;stroke-linecap:square;stroke-linejoin:miter;stroke-width:0.8;\"/>\n   </g>\n   <g id=\"patch_5\">\n    <path d=\"M 10.7 98.925311 \nL 73.869811 98.925311 \n\" style=\"fill:none;stroke:#000000;stroke-linecap:square;stroke-linejoin:miter;stroke-width:0.8;\"/>\n   </g>\n   <g id=\"patch_6\">\n    <path d=\"M 10.7 35.7555 \nL 73.869811 35.7555 \n\" style=\"fill:none;stroke:#000000;stroke-linecap:square;stroke-linejoin:miter;stroke-width:0.8;\"/>\n   </g>\n   <g id=\"text_1\">\n    <!-- t-shirt -->\n    <g transform=\"translate(24.354281 16.318125)scale(0.12 -0.12)\">\n     <defs>\n      <path d=\"M 1172 4494 \nL 1172 3500 \nL 2356 3500 \nL 2356 3053 \nL 1172 3053 \nL 1172 1153 \nQ 1172 725 1289 603 \nQ 1406 481 1766 481 \nL 2356 481 \nL 2356 0 \nL 1766 0 \nQ 1100 0 847 248 \nQ 594 497 594 1153 \nL 594 3053 \nL 172 3053 \nL 172 3500 \nL 594 3500 \nL 594 4494 \nL 1172 4494 \nz\n\" id=\"DejaVuSans-74\" transform=\"scale(0.015625)\"/>\n      <path d=\"M 313 2009 \nL 1997 2009 \nL 1997 1497 \nL 313 1497 \nL 313 2009 \nz\n\" id=\"DejaVuSans-2d\" transform=\"scale(0.015625)\"/>\n      <path d=\"M 2834 3397 \nL 2834 2853 \nQ 2591 2978 2328 3040 \nQ 2066 3103 1784 3103 \nQ 1356 3103 1142 2972 \nQ 928 2841 928 2578 \nQ 928 2378 1081 2264 \nQ 1234 2150 1697 2047 \nL 1894 2003 \nQ 2506 1872 2764 1633 \nQ 3022 1394 3022 966 \nQ 3022 478 2636 193 \nQ 2250 -91 1575 -91 \nQ 1294 -91 989 -36 \nQ 684 19 347 128 \nL 347 722 \nQ 666 556 975 473 \nQ 1284 391 1588 391 \nQ 1994 391 2212 530 \nQ 2431 669 2431 922 \nQ 2431 1156 2273 1281 \nQ 2116 1406 1581 1522 \nL 1381 1569 \nQ 847 1681 609 1914 \nQ 372 2147 372 2553 \nQ 372 3047 722 3315 \nQ 1072 3584 1716 3584 \nQ 2034 3584 2315 3537 \nQ 2597 3491 2834 3397 \nz\n\" id=\"DejaVuSans-73\" transform=\"scale(0.015625)\"/>\n      <path d=\"M 3513 2113 \nL 3513 0 \nL 2938 0 \nL 2938 2094 \nQ 2938 2591 2744 2837 \nQ 2550 3084 2163 3084 \nQ 1697 3084 1428 2787 \nQ 1159 2491 1159 1978 \nL 1159 0 \nL 581 0 \nL 581 4863 \nL 1159 4863 \nL 1159 2956 \nQ 1366 3272 1645 3428 \nQ 1925 3584 2291 3584 \nQ 2894 3584 3203 3211 \nQ 3513 2838 3513 2113 \nz\n\" id=\"DejaVuSans-68\" transform=\"scale(0.015625)\"/>\n      <path d=\"M 603 3500 \nL 1178 3500 \nL 1178 0 \nL 603 0 \nL 603 3500 \nz\nM 603 4863 \nL 1178 4863 \nL 1178 4134 \nL 603 4134 \nL 603 4863 \nz\n\" id=\"DejaVuSans-69\" transform=\"scale(0.015625)\"/>\n      <path d=\"M 2631 2963 \nQ 2534 3019 2420 3045 \nQ 2306 3072 2169 3072 \nQ 1681 3072 1420 2755 \nQ 1159 2438 1159 1844 \nL 1159 0 \nL 581 0 \nL 581 3500 \nL 1159 3500 \nL 1159 2956 \nQ 1341 3275 1631 3429 \nQ 1922 3584 2338 3584 \nQ 2397 3584 2469 3576 \nQ 2541 3569 2628 3553 \nL 2631 2963 \nz\n\" id=\"DejaVuSans-72\" transform=\"scale(0.015625)\"/>\n     </defs>\n     <use xlink:href=\"#DejaVuSans-74\"/>\n     <use x=\"39.208984\" xlink:href=\"#DejaVuSans-2d\"/>\n     <use x=\"75.292969\" xlink:href=\"#DejaVuSans-73\"/>\n     <use x=\"127.392578\" xlink:href=\"#DejaVuSans-68\"/>\n     <use x=\"190.771484\" xlink:href=\"#DejaVuSans-69\"/>\n     <use x=\"218.554688\" xlink:href=\"#DejaVuSans-72\"/>\n     <use x=\"259.667969\" xlink:href=\"#DejaVuSans-74\"/>\n    </g>\n    <!-- t-shirt -->\n    <g transform=\"translate(24.354281 29.7555)scale(0.12 -0.12)\">\n     <use xlink:href=\"#DejaVuSans-74\"/>\n     <use x=\"39.208984\" xlink:href=\"#DejaVuSans-2d\"/>\n     <use x=\"75.292969\" xlink:href=\"#DejaVuSans-73\"/>\n     <use x=\"127.392578\" xlink:href=\"#DejaVuSans-68\"/>\n     <use x=\"190.771484\" xlink:href=\"#DejaVuSans-69\"/>\n     <use x=\"218.554688\" xlink:href=\"#DejaVuSans-72\"/>\n     <use x=\"259.667969\" xlink:href=\"#DejaVuSans-74\"/>\n    </g>\n   </g>\n  </g>\n  <g id=\"axes_2\">\n   <g id=\"patch_7\">\n    <path d=\"M 86.503774 98.925311 \nL 149.673585 98.925311 \nL 149.673585 35.7555 \nL 86.503774 35.7555 \nz\n\" style=\"fill:#ffffff;\"/>\n   </g>\n   <g clip-path=\"url(#p6db4b6875c)\">\n    <image height=\"64\" id=\"image60e423c157\" transform=\"scale(1 -1)translate(0 -64)\" width=\"64\" x=\"86.503774\" xlink:href=\"data:image/png;base64,\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\" y=\"-34.925311\"/>\n   </g>\n   <g id=\"patch_8\">\n    <path d=\"M 86.503774 98.925311 \nL 86.503774 35.7555 \n\" style=\"fill:none;stroke:#000000;stroke-linecap:square;stroke-linejoin:miter;stroke-width:0.8;\"/>\n   </g>\n   <g id=\"patch_9\">\n    <path d=\"M 149.673585 98.925311 \nL 149.673585 35.7555 \n\" style=\"fill:none;stroke:#000000;stroke-linecap:square;stroke-linejoin:miter;stroke-width:0.8;\"/>\n   </g>\n   <g id=\"patch_10\">\n    <path d=\"M 86.503774 98.925311 \nL 149.673585 98.925311 \n\" style=\"fill:none;stroke:#000000;stroke-linecap:square;stroke-linejoin:miter;stroke-width:0.8;\"/>\n   </g>\n   <g id=\"patch_11\">\n    <path d=\"M 86.503774 35.7555 \nL 149.673585 35.7555 \n\" style=\"fill:none;stroke:#000000;stroke-linecap:square;stroke-linejoin:miter;stroke-width:0.8;\"/>\n   </g>\n   <g id=\"text_2\">\n    <!-- trouser -->\n    <g transform=\"translate(96.647117 16.318125)scale(0.12 -0.12)\">\n     <defs>\n      <path d=\"M 1959 3097 \nQ 1497 3097 1228 2736 \nQ 959 2375 959 1747 \nQ 959 1119 1226 758 \nQ 1494 397 1959 397 \nQ 2419 397 2687 759 \nQ 2956 1122 2956 1747 \nQ 2956 2369 2687 2733 \nQ 2419 3097 1959 3097 \nz\nM 1959 3584 \nQ 2709 3584 3137 3096 \nQ 3566 2609 3566 1747 \nQ 3566 888 3137 398 \nQ 2709 -91 1959 -91 \nQ 1206 -91 779 398 \nQ 353 888 353 1747 \nQ 353 2609 779 3096 \nQ 1206 3584 1959 3584 \nz\n\" id=\"DejaVuSans-6f\" transform=\"scale(0.015625)\"/>\n      <path d=\"M 544 1381 \nL 544 3500 \nL 1119 3500 \nL 1119 1403 \nQ 1119 906 1312 657 \nQ 1506 409 1894 409 \nQ 2359 409 2629 706 \nQ 2900 1003 2900 1516 \nL 2900 3500 \nL 3475 3500 \nL 3475 0 \nL 2900 0 \nL 2900 538 \nQ 2691 219 2414 64 \nQ 2138 -91 1772 -91 \nQ 1169 -91 856 284 \nQ 544 659 544 1381 \nz\nM 1991 3584 \nL 1991 3584 \nz\n\" id=\"DejaVuSans-75\" transform=\"scale(0.015625)\"/>\n      <path d=\"M 3597 1894 \nL 3597 1613 \nL 953 1613 \nQ 991 1019 1311 708 \nQ 1631 397 2203 397 \nQ 2534 397 2845 478 \nQ 3156 559 3463 722 \nL 3463 178 \nQ 3153 47 2828 -22 \nQ 2503 -91 2169 -91 \nQ 1331 -91 842 396 \nQ 353 884 353 1716 \nQ 353 2575 817 3079 \nQ 1281 3584 2069 3584 \nQ 2775 3584 3186 3129 \nQ 3597 2675 3597 1894 \nz\nM 3022 2063 \nQ 3016 2534 2758 2815 \nQ 2500 3097 2075 3097 \nQ 1594 3097 1305 2825 \nQ 1016 2553 972 2059 \nL 3022 2063 \nz\n\" id=\"DejaVuSans-65\" transform=\"scale(0.015625)\"/>\n     </defs>\n     <use xlink:href=\"#DejaVuSans-74\"/>\n     <use x=\"39.208984\" xlink:href=\"#DejaVuSans-72\"/>\n     <use x=\"78.072266\" xlink:href=\"#DejaVuSans-6f\"/>\n     <use x=\"139.253906\" xlink:href=\"#DejaVuSans-75\"/>\n     <use x=\"202.632812\" xlink:href=\"#DejaVuSans-73\"/>\n     <use x=\"254.732422\" xlink:href=\"#DejaVuSans-65\"/>\n     <use x=\"316.255859\" xlink:href=\"#DejaVuSans-72\"/>\n    </g>\n    <!-- trouser -->\n    <g transform=\"translate(96.647117 29.7555)scale(0.12 -0.12)\">\n     <use xlink:href=\"#DejaVuSans-74\"/>\n     <use x=\"39.208984\" xlink:href=\"#DejaVuSans-72\"/>\n     <use x=\"78.072266\" xlink:href=\"#DejaVuSans-6f\"/>\n     <use x=\"139.253906\" xlink:href=\"#DejaVuSans-75\"/>\n     <use x=\"202.632812\" xlink:href=\"#DejaVuSans-73\"/>\n     <use x=\"254.732422\" xlink:href=\"#DejaVuSans-65\"/>\n     <use x=\"316.255859\" xlink:href=\"#DejaVuSans-72\"/>\n    </g>\n   </g>\n  </g>\n  <g id=\"axes_3\">\n   <g id=\"patch_12\">\n    <path d=\"M 162.307547 98.925311 \nL 225.477358 98.925311 \nL 225.477358 35.7555 \nL 162.307547 35.7555 \nz\n\" style=\"fill:#ffffff;\"/>\n   </g>\n   <g clip-path=\"url(#p039f8c9b1d)\">\n    <image height=\"64\" id=\"image50c684e58e\" transform=\"scale(1 -1)translate(0 -64)\" width=\"64\" x=\"162.307547\" xlink:href=\"data:image/png;base64,\niVBORw0KGgoAAAANSUhEUgAAAEAAAABACAYAAACqaXHeAAARy0lEQVR4nMWbS49k2VHHfxHn3JuZlVXV3TPTM56eGeMBbAtZGGwh2AFCiA1bfwjEF2DPt/GOBVvWXiGDhGwJbISM59HT0zP1yNd9nBMs4tybN6u7q7Kmx+ZIWVl16z5OxIkT8Y9/xJW/lh8ZtwyZzZDvfkh/PocgmAph2xMut8i2IX3yFGsaEAFRsAx26y2/9iExYj/8A7ZPFmhraJsJTSZ+uUWaFvv4KXm9fum1etQTMoiV72yQXyGg5a8owmsOUVDBRPzPYZ5HjHjnGdmQXUMIgvQZcn65An7Lq35z9CcVzbmy/DQx+/XFOB/pE3bL3O5WgGWk6SAEpGmh6yEGbFZ/XXN//aFCmin9AiQZPP8SNCCnJ66I/GrLvFMBEiPpG49oH8385ubmpV0mrFvk2XP3Af+PQ0KgeRjYviNU65r6+buIGQZIl6CqYLd76bV3W0BVsXmyYPN2IEcwFeLWmF1mZheB2f/ccouyJ7/yuGm60/sN/xNBYmT3prJ70qFtRb0+RVsjbhJh2xPjq+d4twKG54kLnyPlI+RK3QH9toaZK+Ele9oUCIYFnxtAMgXi6yvAvSogYBFyLfQLCK1CuEUBvwnH+LJ7loWRKpNrI9WQaqFdRuIuM6+rV97uOAuwooDybBPIoWh9GAMO+E2OIcxOlTA8U0DUsOku0WFer96KR4TB7A6v1SKwgEGuiqmJggjhwTkyn3vIyQYqyFfxASKg6p67CGp977+nhHU91vcj+JIQIEYsgARDDEILmBEE4jZDSq+hADy0SKJ8zHWgggUXFIDZDBZzxAxS9uN3aP9VCjAVBzLmH+kjmGFth5QVt7b104NCCJiCioEJkrNbLIb0hr1OGAQcZSlQZDEVcgWpKqssCg/P6d46Jaxb9GpzcLkNSjpGITnvUdxwfpmlVNFXvU/I6dKfPZ+RT09IcwgxY2Jo7wtmejciPEoBpuKrPipg2AI+SVEhPViwe1wzU6HatocARLWY9hEK6IHUjwowFdDgf1cRq4JbYT/HgpJPatKyIs2NWUy0AtLjlmji596ihCOjQAFAhisiuAIsFuGmQ5lEBp+4Rd0LXr4H3H6QjWSQqBDDoaNL+eAccka6HrPg1hgUDPo+oElc+AyCla3w6nG0D9AEqUw8R0hzo5+/uKImMgpsVQAZ8IJMzimKUHzyDCsG2mUk5bJy/i1dcmsS3990PWx3yKzGopJrRRJ0baTuGJM2Kfcjv6YTvBkGUci1W8EQ/nId6OeKLgPazf0ynQg5DU9Cyd7AoozPwECjoEldgN7NV6sAOWNBsaCEbURSxuY1aR5Jc8ECxUT9S5IdlRUekQwZmjLa22heqRK6hwltA1QRCcru7RnX31TCVombiCbQzoY5lVUfft871Vy2twwKSLgTy4fXA7SnnvDUV8bpxzNSpayf1LSnQr9MVMHtXduMpoz0hjb964dBko1+gOIHqDK5CqOHT7WQZoMwQk5GEDkQYFCCW8AAr8v9io+xRAmD/v+pAvsFdKeCdpBmgVS7QtICrDJUPUQPPoAhlN4yjvMB4+oY2rvAWidyCUvgq6UtxDXU14YkI7S+goOSpgoYUaS4RQx7VgYLmJgxlMgTA6ZGtTaqqxZOK9qzSPvAoM6ImJ8XBDWPBqMiXkcBWAFC2ScIoMHcfAcFJEM7CK0Rd3sFYDhgKoK+oAB/gN+7CK3dPu3er4IQWiO1/q2bljALpBmkE0OqogABC+JWa/65bRydDZZ5jklRPevY1jP39uaTDk2JwXnigAy/QDws2aE/fCFM7UFQEQS3CA+FAQq4kW2LntSjdVqndG0k9nuLdbTqOOVrUYBkD4cmwqLu2FR5hMLaGWFnhG4vvCQKnGWU2o/tBXWu0UZhmTrI6L5AmhIWcacpGWS1QU9m+8jUKX0TqXvGcz0K3Z6g3c8CYHxgKA4HEchG2CaqbUSyQ+QATqcNqzFVpE2+y94neV5h2Ag5x9B7cHG5X5+coxxGdiuQlzn8W7LUe1qAhykxCJohDC46U32xYRmF5mHF7qFiO6gv3RdYkP0Kw4FT8r1vbiDJ3GxlYhE3hDfxUGy7HdJ243FtFetAuxvX3DHupwDb71kVG5fSskHXo7uE9hHTm06Ol3piv8WN42W7SIlgYxgddsiwpUqeYerQnAxaFmh0MiIH/MDLxv19QF/SYkoAEHGi4vKaqk/0Z2+R60BOxQEdyc+PzzCD7LSXUsiXWkdBtHOgY32PiNCdG/lBR/ysproWws7IUdDhXrc4wHsrYHReL5NpuyupajH5G+zMfYYzuu5bRMXZp7IlhnBMNs8zaiPO0kiESKKsvO0TrlvGUYzQMCmyY27JsG5qrNkzN7lpkJQITXLwgeP8hB54elMpW8leuVUHBCgZDCPNnJGWZNQrI2x7t7qg5HlmMe9o84KwhdBNsQN3KuHoZGg6W0mwbSqk1XFvW9NgTYN0aTT7XLkp0ruTG+IyUyu6Ob+SJA2ZoSHkSkg1xK0Rtxnd7fkCqsys6ugyhMa36HAfCnt12zY4EgoXSFoIAU2Q+oCkFylqSRntXEk5OH8YJ9jAN/Y+BL78eYf/Gyj50GSqqw7dNKQJYAo6IMf9+ULBIv0rSnn3UkCfS8zVwtFBagOhnZAcQy2uSVSbYgGxIMCVV5JMdXSM0k8Q33SBpgAJ3CKCA6C4SVSfXsL1Gix7SAxGFdKYR4D7C8uGtBlt063Z4P14bBtWsgA8AasrdLEYaSsxG7HCgXBmIygaznsVTt9ngCWJKmFVU0a2DQzxXwE1ghiSxSNUgeoA2mfo863F0eMUUPg87Yy47T1ZASwa3eMT5Mk76PLEz825kJJWYvQkFtsAke0Fv3Ig/CTtzkHIUbAIuu1Jn31Ovr4us1dilTipWrSF2VUitNkhtIGuG3S9fX0LMBk8s5Usa5it5+U2nyHT8pMdXncUGXqgBBuvH7PHARx1LZYSEissKiFm6pDcabYl/xge1Sf/3EKL360AVawKDkYGvn5wNsFoz5T+0QKZlMvdZH3lvIYo5FrJlUcBi34v01uQmkCuhmsOLSk8OEe//S3WHyx542zN49kKTVCteqS3UrU6TunHWUARZAhP06v7udIvo5egwR8qe4g6FCtzlBEHDHzAC3B5+syBNSo1CVPGcCaLBd2bS3YPlQezHWfVzi2g6dFk+4zyiHFcaaxJhJ3vbRj2qaOtbgntTjmp/Fam6sIqByTKkKKOfuBlVjlR8OALZOJ4x3A2n7F7XNOeCypGm2N5ljngEn+erDbYeu2lta+qADNDdz3VJuxDVxEELRxdr9i8bIHgtLmJoGNJzdBkJXIUwjMdamBgiw4PDgorAhX0mJcLNo+V9pGftk2VP6fPY/SRZOSLy1c2Rx2tgOkEhUIzJaD1YkRaQJdKDQAYqjm+CjcEtL2MQ1o7FX56zO/1irlUgfZM6BdGn5XrbnYAgu6Tg9zdIlMKHRYEOpAuEXdGvAzkmbF7O9E+EPqzWcneZKS6LbvSBp9wwNPfwOmjQ8wl3y8RYGSMJwaTzms2TzL5Yc+mq1m1szE0j3XMO7LAoxVQtLDXaqG6NXk+kueZFAWriteZOrepEDeHveL4xA+YyFhDmDq1XJIgrRJdVvoUDn3KPazgKAXkUn7KyQr7AGEnpLnx+MmFO6IHb7AAch3pl87loTaGQ+0KXB72dbJSG9gzxahDWNStzpMgoT/xmkOeRQTnB2TZE+vE1WZO21Q8aie6vUdZ/igcMPYDlA/gnLvB28sVT04v6efqHZtR931EBcO/dEWG4sX00KCEAfyUMGpx+AhowAKEKhNjousCqQ0HPuA+46gwKP0+BBIE7Y24gf5UOK92fHDyJT/9iw9Zv/unaOuFkZHayvsVsTBBdEPJe4oWp0MKfgiCNkCG6/dnLP7mhzz7fsX33vsVvSk/+9W7sIpotydApDRWHDOOggtjWmmMaLBaG9oIZ9WO78w/5S9/8HPe+ttfc/X7mWplVJsSAof9PICaMEGH1QQg3Vw52fchDcWW7dvKZz+o2Hyn4c/f/C++e/YU65SwUucCB2m+TlLUzA4toIQ37f3T58DOKq67Geu2JjRCtUll9T1UhiajbT4slA4rfjP9HR6TXHBNYK0roj8R0sIpsNOwYxG6YUplyzj7FDpKdeluTRzXK9z2hF1PjopV6mWvxtBWWKeaVZrzfLfkYrWguhTmn7eYQJwXh9l4zX+IJoOfAPa0eLbC4IivZAtVwTCD8rePa9oHxsPTLd+IF1ymxag0C4zdI3GbCbv+1iToeAUADA0LcUgyGGsEm77msl/w7PqU5vMF5zvPEIGRyPRvHU3UKzbFAgYCtJTMTPehbxgjI9xCtRJW6zkfd4/4vDuDSTFkdNBDNfuIcaQCkndpnETSzDM57Q1t4KOrc/qs5H99wPs/S6RZ5vqDGi1WIhnSXPcgaCCWhslO+cECr4eS2HA8zZ0WP/00cfoJfLFe8uO3/oRVMyNeBOLa/VKufcvFbUJ3/a1EyL0UIHnfajZkZ24Bxrap+TIumF3C4umO7TtzmgdCTnLQYTo0PwzdW84Ov4iGnP6SsVI8RANTqK8S1bqnul7wfH1C18XRF8E+wowtdkeMe9UFTJ2Zkd73dX0tfPnxku1iwaNkdOc1qS4ePUB7WpRQlBE62+cHMv4oN/evHJ1NvnkMgbgV5/k6o+kiXReoG0HbSbbJ/YDQ/RQwNDHir6XErVJ/GUhb34dpLqNzy6HUEAyktLyYyiFvz34rDKlvqp0CH4dMfImKs84JUq/kXpFiAQcltK8zGXLAvy9PDw5JshFab5nv50Lc+V7WHuIOrwwNWKfwAkMD4zQc3uwdkgShYd+KJ3LYKVIFtIX+2RxJUqpBBXLX6iG3cZ9lRzjCo6PAtBjpQhnaZObPjVR5T66kfWVmLFrC6NDGvoHy+8gaTbgATYZ0XmJPMz+uu6JEc0cXG2PxSfCYv3XfkoM7y9BkdNtD03LMuBsIZcPaFtkImk5LGNyDF+1t5N8s2kFL7Qu1+pJT5OBNVTl4u50VxtnBjxMpMXvL68AMD86wnwfHGDsgQ9ztq0E5OuegmwbZtRzzEtcRQCiRnj1Hqoi89wapFkIrI7095OE5gJVwNUSJoUlq4BOHFW8eKNt3wIIVn2HMLoS4dgsInRHXifmna0yV1e+e0i2Vfi70M+9Mm33hLFN97ZbXnivtUjh5muHpM3LbYbfQ4ccroCjB2mkT89QX7MkKu+GAzMNyedVmcrsK+tNMrgyr/Z6aAia+p4eSePvmyYRMKclOKa15x1pBiXmfPQJY22Fd/zVB4cmQZCMs7Zd+qRckzenrSTtcqoXdI8UCpJlPbnZh1NdGdwbn3/6SN5cbvv/wI2ba85PPP+Szq1OufnFOaJTV+8I3/+ojuhxY/fP7PPxlP1rB2K1mA6pk5A5MBGvbo1b/3gog59Ik5Zz9UN6SnpLRFd9QusLSvHSV14z9e5INi/D26YoPlhf82dkvOdcdqzTjF/ExPz9bkmOgeSPzjx/+E5s84++Xf+eErN2wsumqK24dggv/mwBCumqYP5/TnkfW7wT30IUYGbfF5Lu+csd28nnyJqpVh65aFs+WfP7RN3la/w4/OfsjTKBauUP74Fni5H+v0P6cf/jDH7GIHWluXH0rjuE0177nXREF/m6M+tII6+4+It1DAWbIZkd1MaM7W7J7y+Hp4I01MeL8HHxrzC+MapU5/emv6T95CpbJZsT/gDf/5ZZHAW/wPX7x7++STjNxBusnUF8K9ZV3qXdnvvpp7pZx/t8wu07orrtJNH1NCgBssyF8EVhUgfP5yfj6nKnv81wJ1co9c9wZ9UVH2HbYZst9X6oOX6x49LNz+kX0pCrhTjNQymAl0jTeN3T6cU/9xQ69XJPv8Ry56+3xw7MFRNHFHD0/w5YL2vcf0Z8EVu9F2nPh4S97zv7tU9g15ItLf8HpHntyHBrQ+cxf2T1ZIFXF6o/f4+L3InHrzrReZZb/+QWy2pCvrrHt1tHfLe8H3Bz3bJIysORCtS0So1djctg7KAOaFmtactPcX/Bh5ETebEAEzdlfyJokPGO1qGmx3Q7bNbeWwF41/g96oatvlHBQJQAAAABJRU5ErkJggg==\" y=\"-34.925311\"/>\n   </g>\n   <g id=\"patch_13\">\n    <path d=\"M 162.307547 98.925311 \nL 162.307547 35.7555 \n\" style=\"fill:none;stroke:#000000;stroke-linecap:square;stroke-linejoin:miter;stroke-width:0.8;\"/>\n   </g>\n   <g id=\"patch_14\">\n    <path d=\"M 225.477358 98.925311 \nL 225.477358 35.7555 \n\" style=\"fill:none;stroke:#000000;stroke-linecap:square;stroke-linejoin:miter;stroke-width:0.8;\"/>\n   </g>\n   <g id=\"patch_15\">\n    <path d=\"M 162.307547 98.925311 \nL 225.477358 98.925311 \n\" style=\"fill:none;stroke:#000000;stroke-linecap:square;stroke-linejoin:miter;stroke-width:0.8;\"/>\n   </g>\n   <g id=\"patch_16\">\n    <path d=\"M 162.307547 35.7555 \nL 225.477358 35.7555 \n\" style=\"fill:none;stroke:#000000;stroke-linecap:square;stroke-linejoin:miter;stroke-width:0.8;\"/>\n   </g>\n   <g id=\"text_3\">\n    <!-- pullover -->\n    <g transform=\"translate(169.566203 16.318125)scale(0.12 -0.12)\">\n     <defs>\n      <path d=\"M 1159 525 \nL 1159 -1331 \nL 581 -1331 \nL 581 3500 \nL 1159 3500 \nL 1159 2969 \nQ 1341 3281 1617 3432 \nQ 1894 3584 2278 3584 \nQ 2916 3584 3314 3078 \nQ 3713 2572 3713 1747 \nQ 3713 922 3314 415 \nQ 2916 -91 2278 -91 \nQ 1894 -91 1617 61 \nQ 1341 213 1159 525 \nz\nM 3116 1747 \nQ 3116 2381 2855 2742 \nQ 2594 3103 2138 3103 \nQ 1681 3103 1420 2742 \nQ 1159 2381 1159 1747 \nQ 1159 1113 1420 752 \nQ 1681 391 2138 391 \nQ 2594 391 2855 752 \nQ 3116 1113 3116 1747 \nz\n\" id=\"DejaVuSans-70\" transform=\"scale(0.015625)\"/>\n      <path d=\"M 603 4863 \nL 1178 4863 \nL 1178 0 \nL 603 0 \nL 603 4863 \nz\n\" id=\"DejaVuSans-6c\" transform=\"scale(0.015625)\"/>\n      <path d=\"M 191 3500 \nL 800 3500 \nL 1894 563 \nL 2988 3500 \nL 3597 3500 \nL 2284 0 \nL 1503 0 \nL 191 3500 \nz\n\" id=\"DejaVuSans-76\" transform=\"scale(0.015625)\"/>\n     </defs>\n     <use xlink:href=\"#DejaVuSans-70\"/>\n     <use x=\"63.476562\" xlink:href=\"#DejaVuSans-75\"/>\n     <use x=\"126.855469\" xlink:href=\"#DejaVuSans-6c\"/>\n     <use x=\"154.638672\" xlink:href=\"#DejaVuSans-6c\"/>\n     <use x=\"182.421875\" xlink:href=\"#DejaVuSans-6f\"/>\n     <use x=\"243.603516\" xlink:href=\"#DejaVuSans-76\"/>\n     <use x=\"302.783203\" xlink:href=\"#DejaVuSans-65\"/>\n     <use x=\"364.306641\" xlink:href=\"#DejaVuSans-72\"/>\n    </g>\n    <!-- pullover -->\n    <g transform=\"translate(169.566203 29.7555)scale(0.12 -0.12)\">\n     <use xlink:href=\"#DejaVuSans-70\"/>\n     <use x=\"63.476562\" xlink:href=\"#DejaVuSans-75\"/>\n     <use x=\"126.855469\" xlink:href=\"#DejaVuSans-6c\"/>\n     <use x=\"154.638672\" xlink:href=\"#DejaVuSans-6c\"/>\n     <use x=\"182.421875\" xlink:href=\"#DejaVuSans-6f\"/>\n     <use x=\"243.603516\" xlink:href=\"#DejaVuSans-76\"/>\n     <use x=\"302.783203\" xlink:href=\"#DejaVuSans-65\"/>\n     <use x=\"364.306641\" xlink:href=\"#DejaVuSans-72\"/>\n    </g>\n   </g>\n  </g>\n  <g id=\"axes_4\">\n   <g id=\"patch_17\">\n    <path d=\"M 238.111321 98.925311 \nL 301.281132 98.925311 \nL 301.281132 35.7555 \nL 238.111321 35.7555 \nz\n\" style=\"fill:#ffffff;\"/>\n   </g>\n   <g clip-path=\"url(#pfe1d8c4a31)\">\n    <image height=\"64\" id=\"image2caa0c6c94\" transform=\"scale(1 -1)translate(0 -64)\" width=\"64\" x=\"238.111321\" xlink:href=\"data:image/png;base64,\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\" y=\"-34.925311\"/>\n   </g>\n   <g id=\"patch_18\">\n    <path d=\"M 238.111321 98.925311 \nL 238.111321 35.7555 \n\" style=\"fill:none;stroke:#000000;stroke-linecap:square;stroke-linejoin:miter;stroke-width:0.8;\"/>\n   </g>\n   <g id=\"patch_19\">\n    <path d=\"M 301.281132 98.925311 \nL 301.281132 35.7555 \n\" style=\"fill:none;stroke:#000000;stroke-linecap:square;stroke-linejoin:miter;stroke-width:0.8;\"/>\n   </g>\n   <g id=\"patch_20\">\n    <path d=\"M 238.111321 98.925311 \nL 301.281132 98.925311 \n\" style=\"fill:none;stroke:#000000;stroke-linecap:square;stroke-linejoin:miter;stroke-width:0.8;\"/>\n   </g>\n   <g id=\"patch_21\">\n    <path d=\"M 238.111321 35.7555 \nL 301.281132 35.7555 \n\" style=\"fill:none;stroke:#000000;stroke-linecap:square;stroke-linejoin:miter;stroke-width:0.8;\"/>\n   </g>\n   <g id=\"text_4\">\n    <!-- pullover -->\n    <g transform=\"translate(245.369976 16.318125)scale(0.12 -0.12)\">\n     <use xlink:href=\"#DejaVuSans-70\"/>\n     <use x=\"63.476562\" xlink:href=\"#DejaVuSans-75\"/>\n     <use x=\"126.855469\" xlink:href=\"#DejaVuSans-6c\"/>\n     <use x=\"154.638672\" xlink:href=\"#DejaVuSans-6c\"/>\n     <use x=\"182.421875\" xlink:href=\"#DejaVuSans-6f\"/>\n     <use x=\"243.603516\" xlink:href=\"#DejaVuSans-76\"/>\n     <use x=\"302.783203\" xlink:href=\"#DejaVuSans-65\"/>\n     <use x=\"364.306641\" xlink:href=\"#DejaVuSans-72\"/>\n    </g>\n    <!-- shirt -->\n    <g transform=\"translate(256.282476 29.7555)scale(0.12 -0.12)\">\n     <use xlink:href=\"#DejaVuSans-73\"/>\n     <use x=\"52.099609\" xlink:href=\"#DejaVuSans-68\"/>\n     <use x=\"115.478516\" xlink:href=\"#DejaVuSans-69\"/>\n     <use x=\"143.261719\" xlink:href=\"#DejaVuSans-72\"/>\n     <use x=\"184.375\" xlink:href=\"#DejaVuSans-74\"/>\n    </g>\n   </g>\n  </g>\n  <g id=\"axes_5\">\n   <g id=\"patch_22\">\n    <path d=\"M 313.915094 98.925311 \nL 377.084906 98.925311 \nL 377.084906 35.7555 \nL 313.915094 35.7555 \nz\n\" style=\"fill:#ffffff;\"/>\n   </g>\n   <g clip-path=\"url(#p8d964963b0)\">\n    <image height=\"64\" id=\"imagecc1120cdd8\" transform=\"scale(1 -1)translate(0 -64)\" width=\"64\" x=\"313.915094\" xlink:href=\"data:image/png;base64,\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\" y=\"-34.925311\"/>\n   </g>\n   <g id=\"patch_23\">\n    <path d=\"M 313.915094 98.925311 \nL 313.915094 35.7555 \n\" style=\"fill:none;stroke:#000000;stroke-linecap:square;stroke-linejoin:miter;stroke-width:0.8;\"/>\n   </g>\n   <g id=\"patch_24\">\n    <path d=\"M 377.084906 98.925311 \nL 377.084906 35.7555 \n\" style=\"fill:none;stroke:#000000;stroke-linecap:square;stroke-linejoin:miter;stroke-width:0.8;\"/>\n   </g>\n   <g id=\"patch_25\">\n    <path d=\"M 313.915094 98.925311 \nL 377.084906 98.925311 \n\" style=\"fill:none;stroke:#000000;stroke-linecap:square;stroke-linejoin:miter;stroke-width:0.8;\"/>\n   </g>\n   <g id=\"patch_26\">\n    <path d=\"M 313.915094 35.7555 \nL 377.084906 35.7555 \n\" style=\"fill:none;stroke:#000000;stroke-linecap:square;stroke-linejoin:miter;stroke-width:0.8;\"/>\n   </g>\n   <g id=\"text_5\">\n    <!-- dress -->\n    <g transform=\"translate(329.41625 16.318125)scale(0.12 -0.12)\">\n     <defs>\n      <path d=\"M 2906 2969 \nL 2906 4863 \nL 3481 4863 \nL 3481 0 \nL 2906 0 \nL 2906 525 \nQ 2725 213 2448 61 \nQ 2172 -91 1784 -91 \nQ 1150 -91 751 415 \nQ 353 922 353 1747 \nQ 353 2572 751 3078 \nQ 1150 3584 1784 3584 \nQ 2172 3584 2448 3432 \nQ 2725 3281 2906 2969 \nz\nM 947 1747 \nQ 947 1113 1208 752 \nQ 1469 391 1925 391 \nQ 2381 391 2643 752 \nQ 2906 1113 2906 1747 \nQ 2906 2381 2643 2742 \nQ 2381 3103 1925 3103 \nQ 1469 3103 1208 2742 \nQ 947 2381 947 1747 \nz\n\" id=\"DejaVuSans-64\" transform=\"scale(0.015625)\"/>\n     </defs>\n     <use xlink:href=\"#DejaVuSans-64\"/>\n     <use x=\"63.476562\" xlink:href=\"#DejaVuSans-72\"/>\n     <use x=\"102.339844\" xlink:href=\"#DejaVuSans-65\"/>\n     <use x=\"163.863281\" xlink:href=\"#DejaVuSans-73\"/>\n     <use x=\"215.962891\" xlink:href=\"#DejaVuSans-73\"/>\n    </g>\n    <!-- coat -->\n    <g transform=\"translate(332.500625 29.7555)scale(0.12 -0.12)\">\n     <defs>\n      <path d=\"M 3122 3366 \nL 3122 2828 \nQ 2878 2963 2633 3030 \nQ 2388 3097 2138 3097 \nQ 1578 3097 1268 2742 \nQ 959 2388 959 1747 \nQ 959 1106 1268 751 \nQ 1578 397 2138 397 \nQ 2388 397 2633 464 \nQ 2878 531 3122 666 \nL 3122 134 \nQ 2881 22 2623 -34 \nQ 2366 -91 2075 -91 \nQ 1284 -91 818 406 \nQ 353 903 353 1747 \nQ 353 2603 823 3093 \nQ 1294 3584 2113 3584 \nQ 2378 3584 2631 3529 \nQ 2884 3475 3122 3366 \nz\n\" id=\"DejaVuSans-63\" transform=\"scale(0.015625)\"/>\n      <path d=\"M 2194 1759 \nQ 1497 1759 1228 1600 \nQ 959 1441 959 1056 \nQ 959 750 1161 570 \nQ 1363 391 1709 391 \nQ 2188 391 2477 730 \nQ 2766 1069 2766 1631 \nL 2766 1759 \nL 2194 1759 \nz\nM 3341 1997 \nL 3341 0 \nL 2766 0 \nL 2766 531 \nQ 2569 213 2275 61 \nQ 1981 -91 1556 -91 \nQ 1019 -91 701 211 \nQ 384 513 384 1019 \nQ 384 1609 779 1909 \nQ 1175 2209 1959 2209 \nL 2766 2209 \nL 2766 2266 \nQ 2766 2663 2505 2880 \nQ 2244 3097 1772 3097 \nQ 1472 3097 1187 3025 \nQ 903 2953 641 2809 \nL 641 3341 \nQ 956 3463 1253 3523 \nQ 1550 3584 1831 3584 \nQ 2591 3584 2966 3190 \nQ 3341 2797 3341 1997 \nz\n\" id=\"DejaVuSans-61\" transform=\"scale(0.015625)\"/>\n     </defs>\n     <use xlink:href=\"#DejaVuSans-63\"/>\n     <use x=\"54.980469\" xlink:href=\"#DejaVuSans-6f\"/>\n     <use x=\"116.162109\" xlink:href=\"#DejaVuSans-61\"/>\n     <use x=\"177.441406\" xlink:href=\"#DejaVuSans-74\"/>\n    </g>\n   </g>\n  </g>\n  <g id=\"axes_6\">\n   <g id=\"patch_27\">\n    <path d=\"M 389.718868 98.925311 \nL 452.888679 98.925311 \nL 452.888679 35.7555 \nL 389.718868 35.7555 \nz\n\" style=\"fill:#ffffff;\"/>\n   </g>\n   <g clip-path=\"url(#p52d7c5efd0)\">\n    <image height=\"64\" id=\"image4795b6fa6c\" transform=\"scale(1 -1)translate(0 -64)\" width=\"64\" x=\"389.718868\" xlink:href=\"data:image/png;base64,\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\" y=\"-34.925311\"/>\n   </g>\n   <g id=\"patch_28\">\n    <path d=\"M 389.718868 98.925311 \nL 389.718868 35.7555 \n\" style=\"fill:none;stroke:#000000;stroke-linecap:square;stroke-linejoin:miter;stroke-width:0.8;\"/>\n   </g>\n   <g id=\"patch_29\">\n    <path d=\"M 452.888679 98.925311 \nL 452.888679 35.7555 \n\" style=\"fill:none;stroke:#000000;stroke-linecap:square;stroke-linejoin:miter;stroke-width:0.8;\"/>\n   </g>\n   <g id=\"patch_30\">\n    <path d=\"M 389.718868 98.925311 \nL 452.888679 98.925311 \n\" style=\"fill:none;stroke:#000000;stroke-linecap:square;stroke-linejoin:miter;stroke-width:0.8;\"/>\n   </g>\n   <g id=\"patch_31\">\n    <path d=\"M 389.718868 35.7555 \nL 452.888679 35.7555 \n\" style=\"fill:none;stroke:#000000;stroke-linecap:square;stroke-linejoin:miter;stroke-width:0.8;\"/>\n   </g>\n   <g id=\"text_6\">\n    <!-- pullover -->\n    <g transform=\"translate(396.977524 16.318125)scale(0.12 -0.12)\">\n     <use xlink:href=\"#DejaVuSans-70\"/>\n     <use x=\"63.476562\" xlink:href=\"#DejaVuSans-75\"/>\n     <use x=\"126.855469\" xlink:href=\"#DejaVuSans-6c\"/>\n     <use x=\"154.638672\" xlink:href=\"#DejaVuSans-6c\"/>\n     <use x=\"182.421875\" xlink:href=\"#DejaVuSans-6f\"/>\n     <use x=\"243.603516\" xlink:href=\"#DejaVuSans-76\"/>\n     <use x=\"302.783203\" xlink:href=\"#DejaVuSans-65\"/>\n     <use x=\"364.306641\" xlink:href=\"#DejaVuSans-72\"/>\n    </g>\n    <!-- shirt -->\n    <g transform=\"translate(407.890024 29.7555)scale(0.12 -0.12)\">\n     <use xlink:href=\"#DejaVuSans-73\"/>\n     <use x=\"52.099609\" xlink:href=\"#DejaVuSans-68\"/>\n     <use x=\"115.478516\" xlink:href=\"#DejaVuSans-69\"/>\n     <use x=\"143.261719\" xlink:href=\"#DejaVuSans-72\"/>\n     <use x=\"184.375\" xlink:href=\"#DejaVuSans-74\"/>\n    </g>\n   </g>\n  </g>\n  <g id=\"axes_7\">\n   <g id=\"patch_32\">\n    <path d=\"M 465.522642 98.925311 \nL 528.692453 98.925311 \nL 528.692453 35.7555 \nL 465.522642 35.7555 \nz\n\" style=\"fill:#ffffff;\"/>\n   </g>\n   <g clip-path=\"url(#pae4889fc22)\">\n    <image height=\"64\" id=\"image750b505965\" transform=\"scale(1 -1)translate(0 -64)\" width=\"64\" x=\"465.522642\" xlink:href=\"data:image/png;base64,\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\" y=\"-34.925311\"/>\n   </g>\n   <g id=\"patch_33\">\n    <path d=\"M 465.522642 98.925311 \nL 465.522642 35.7555 \n\" style=\"fill:none;stroke:#000000;stroke-linecap:square;stroke-linejoin:miter;stroke-width:0.8;\"/>\n   </g>\n   <g id=\"patch_34\">\n    <path d=\"M 528.692453 98.925311 \nL 528.692453 35.7555 \n\" style=\"fill:none;stroke:#000000;stroke-linecap:square;stroke-linejoin:miter;stroke-width:0.8;\"/>\n   </g>\n   <g id=\"patch_35\">\n    <path d=\"M 465.522642 98.925311 \nL 528.692453 98.925311 \n\" style=\"fill:none;stroke:#000000;stroke-linecap:square;stroke-linejoin:miter;stroke-width:0.8;\"/>\n   </g>\n   <g id=\"patch_36\">\n    <path d=\"M 465.522642 35.7555 \nL 528.692453 35.7555 \n\" style=\"fill:none;stroke:#000000;stroke-linecap:square;stroke-linejoin:miter;stroke-width:0.8;\"/>\n   </g>\n   <g id=\"text_7\">\n    <!-- bag -->\n    <g transform=\"translate(485.812547 16.318125)scale(0.12 -0.12)\">\n     <defs>\n      <path d=\"M 3116 1747 \nQ 3116 2381 2855 2742 \nQ 2594 3103 2138 3103 \nQ 1681 3103 1420 2742 \nQ 1159 2381 1159 1747 \nQ 1159 1113 1420 752 \nQ 1681 391 2138 391 \nQ 2594 391 2855 752 \nQ 3116 1113 3116 1747 \nz\nM 1159 2969 \nQ 1341 3281 1617 3432 \nQ 1894 3584 2278 3584 \nQ 2916 3584 3314 3078 \nQ 3713 2572 3713 1747 \nQ 3713 922 3314 415 \nQ 2916 -91 2278 -91 \nQ 1894 -91 1617 61 \nQ 1341 213 1159 525 \nL 1159 0 \nL 581 0 \nL 581 4863 \nL 1159 4863 \nL 1159 2969 \nz\n\" id=\"DejaVuSans-62\" transform=\"scale(0.015625)\"/>\n      <path d=\"M 2906 1791 \nQ 2906 2416 2648 2759 \nQ 2391 3103 1925 3103 \nQ 1463 3103 1205 2759 \nQ 947 2416 947 1791 \nQ 947 1169 1205 825 \nQ 1463 481 1925 481 \nQ 2391 481 2648 825 \nQ 2906 1169 2906 1791 \nz\nM 3481 434 \nQ 3481 -459 3084 -895 \nQ 2688 -1331 1869 -1331 \nQ 1566 -1331 1297 -1286 \nQ 1028 -1241 775 -1147 \nL 775 -588 \nQ 1028 -725 1275 -790 \nQ 1522 -856 1778 -856 \nQ 2344 -856 2625 -561 \nQ 2906 -266 2906 331 \nL 2906 616 \nQ 2728 306 2450 153 \nQ 2172 0 1784 0 \nQ 1141 0 747 490 \nQ 353 981 353 1791 \nQ 353 2603 747 3093 \nQ 1141 3584 1784 3584 \nQ 2172 3584 2450 3431 \nQ 2728 3278 2906 2969 \nL 2906 3500 \nL 3481 3500 \nL 3481 434 \nz\n\" id=\"DejaVuSans-67\" transform=\"scale(0.015625)\"/>\n     </defs>\n     <use xlink:href=\"#DejaVuSans-62\"/>\n     <use x=\"63.476562\" xlink:href=\"#DejaVuSans-61\"/>\n     <use x=\"124.755859\" xlink:href=\"#DejaVuSans-67\"/>\n    </g>\n    <!-- bag -->\n    <g transform=\"translate(485.812547 29.7555)scale(0.12 -0.12)\">\n     <use xlink:href=\"#DejaVuSans-62\"/>\n     <use x=\"63.476562\" xlink:href=\"#DejaVuSans-61\"/>\n     <use x=\"124.755859\" xlink:href=\"#DejaVuSans-67\"/>\n    </g>\n   </g>\n  </g>\n  <g id=\"axes_8\">\n   <g id=\"patch_37\">\n    <path d=\"M 541.326415 98.925311 \nL 604.496226 98.925311 \nL 604.496226 35.7555 \nL 541.326415 35.7555 \nz\n\" style=\"fill:#ffffff;\"/>\n   </g>\n   <g clip-path=\"url(#p87799f5881)\">\n    <image height=\"64\" id=\"image42dd32e65b\" transform=\"scale(1 -1)translate(0 -64)\" width=\"64\" x=\"541.326415\" xlink:href=\"data:image/png;base64,\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\" y=\"-34.925311\"/>\n   </g>\n   <g id=\"patch_38\">\n    <path d=\"M 541.326415 98.925311 \nL 541.326415 35.7555 \n\" style=\"fill:none;stroke:#000000;stroke-linecap:square;stroke-linejoin:miter;stroke-width:0.8;\"/>\n   </g>\n   <g id=\"patch_39\">\n    <path d=\"M 604.496226 98.925311 \nL 604.496226 35.7555 \n\" style=\"fill:none;stroke:#000000;stroke-linecap:square;stroke-linejoin:miter;stroke-width:0.8;\"/>\n   </g>\n   <g id=\"patch_40\">\n    <path d=\"M 541.326415 98.925311 \nL 604.496226 98.925311 \n\" style=\"fill:none;stroke:#000000;stroke-linecap:square;stroke-linejoin:miter;stroke-width:0.8;\"/>\n   </g>\n   <g id=\"patch_41\">\n    <path d=\"M 541.326415 35.7555 \nL 604.496226 35.7555 \n\" style=\"fill:none;stroke:#000000;stroke-linecap:square;stroke-linejoin:miter;stroke-width:0.8;\"/>\n   </g>\n   <g id=\"text_8\">\n    <!-- shirt -->\n    <g transform=\"translate(559.497571 16.318125)scale(0.12 -0.12)\">\n     <use xlink:href=\"#DejaVuSans-73\"/>\n     <use x=\"52.099609\" xlink:href=\"#DejaVuSans-68\"/>\n     <use x=\"115.478516\" xlink:href=\"#DejaVuSans-69\"/>\n     <use x=\"143.261719\" xlink:href=\"#DejaVuSans-72\"/>\n     <use x=\"184.375\" xlink:href=\"#DejaVuSans-74\"/>\n    </g>\n    <!-- shirt -->\n    <g transform=\"translate(559.497571 29.7555)scale(0.12 -0.12)\">\n     <use xlink:href=\"#DejaVuSans-73\"/>\n     <use x=\"52.099609\" xlink:href=\"#DejaVuSans-68\"/>\n     <use x=\"115.478516\" xlink:href=\"#DejaVuSans-69\"/>\n     <use x=\"143.261719\" xlink:href=\"#DejaVuSans-72\"/>\n     <use x=\"184.375\" xlink:href=\"#DejaVuSans-74\"/>\n    </g>\n   </g>\n  </g>\n  <g id=\"axes_9\">\n   <g id=\"patch_42\">\n    <path d=\"M 617.130189 98.925311 \nL 680.3 98.925311 \nL 680.3 35.7555 \nL 617.130189 35.7555 \nz\n\" style=\"fill:#ffffff;\"/>\n   </g>\n   <g clip-path=\"url(#p770dc992d6)\">\n    <image height=\"64\" id=\"image91172a3a57\" transform=\"scale(1 -1)translate(0 -64)\" width=\"64\" x=\"617.130189\" xlink:href=\"data:image/png;base64,\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\" y=\"-34.925311\"/>\n   </g>\n   <g id=\"patch_43\">\n    <path d=\"M 617.130189 98.925311 \nL 617.130189 35.7555 \n\" style=\"fill:none;stroke:#000000;stroke-linecap:square;stroke-linejoin:miter;stroke-width:0.8;\"/>\n   </g>\n   <g id=\"patch_44\">\n    <path d=\"M 680.3 98.925311 \nL 680.3 35.7555 \n\" style=\"fill:none;stroke:#000000;stroke-linecap:square;stroke-linejoin:miter;stroke-width:0.8;\"/>\n   </g>\n   <g id=\"patch_45\">\n    <path d=\"M 617.130189 98.925311 \nL 680.3 98.925311 \n\" style=\"fill:none;stroke:#000000;stroke-linecap:square;stroke-linejoin:miter;stroke-width:0.8;\"/>\n   </g>\n   <g id=\"patch_46\">\n    <path d=\"M 617.130189 35.7555 \nL 680.3 35.7555 \n\" style=\"fill:none;stroke:#000000;stroke-linecap:square;stroke-linejoin:miter;stroke-width:0.8;\"/>\n   </g>\n   <g id=\"text_9\">\n    <!-- sandal -->\n    <g transform=\"translate(628.957282 16.318125)scale(0.12 -0.12)\">\n     <defs>\n      <path d=\"M 3513 2113 \nL 3513 0 \nL 2938 0 \nL 2938 2094 \nQ 2938 2591 2744 2837 \nQ 2550 3084 2163 3084 \nQ 1697 3084 1428 2787 \nQ 1159 2491 1159 1978 \nL 1159 0 \nL 581 0 \nL 581 3500 \nL 1159 3500 \nL 1159 2956 \nQ 1366 3272 1645 3428 \nQ 1925 3584 2291 3584 \nQ 2894 3584 3203 3211 \nQ 3513 2838 3513 2113 \nz\n\" id=\"DejaVuSans-6e\" transform=\"scale(0.015625)\"/>\n     </defs>\n     <use xlink:href=\"#DejaVuSans-73\"/>\n     <use x=\"52.099609\" xlink:href=\"#DejaVuSans-61\"/>\n     <use x=\"113.378906\" xlink:href=\"#DejaVuSans-6e\"/>\n     <use x=\"176.757812\" xlink:href=\"#DejaVuSans-64\"/>\n     <use x=\"240.234375\" xlink:href=\"#DejaVuSans-61\"/>\n     <use x=\"301.513672\" xlink:href=\"#DejaVuSans-6c\"/>\n    </g>\n    <!-- sandal -->\n    <g transform=\"translate(628.957282 29.7555)scale(0.12 -0.12)\">\n     <use xlink:href=\"#DejaVuSans-73\"/>\n     <use x=\"52.099609\" xlink:href=\"#DejaVuSans-61\"/>\n     <use x=\"113.378906\" xlink:href=\"#DejaVuSans-6e\"/>\n     <use x=\"176.757812\" xlink:href=\"#DejaVuSans-64\"/>\n     <use x=\"240.234375\" xlink:href=\"#DejaVuSans-61\"/>\n     <use x=\"301.513672\" xlink:href=\"#DejaVuSans-6c\"/>\n    </g>\n   </g>\n  </g>\n </g>\n <defs>\n  <clipPath id=\"p1c7cf8803b\">\n   <rect height=\"63.169811\" width=\"63.169811\" x=\"10.7\" y=\"35.7555\"/>\n  </clipPath>\n  <clipPath id=\"p6db4b6875c\">\n   <rect height=\"63.169811\" width=\"63.169811\" x=\"86.503774\" y=\"35.7555\"/>\n  </clipPath>\n  <clipPath id=\"p039f8c9b1d\">\n   <rect height=\"63.169811\" width=\"63.169811\" x=\"162.307547\" y=\"35.7555\"/>\n  </clipPath>\n  <clipPath id=\"pfe1d8c4a31\">\n   <rect height=\"63.169811\" width=\"63.169811\" x=\"238.111321\" y=\"35.7555\"/>\n  </clipPath>\n  <clipPath id=\"p8d964963b0\">\n   <rect height=\"63.169811\" width=\"63.169811\" x=\"313.915094\" y=\"35.7555\"/>\n  </clipPath>\n  <clipPath id=\"p52d7c5efd0\">\n   <rect height=\"63.169811\" width=\"63.169811\" x=\"389.718868\" y=\"35.7555\"/>\n  </clipPath>\n  <clipPath id=\"pae4889fc22\">\n   <rect height=\"63.169811\" width=\"63.169811\" x=\"465.522642\" y=\"35.7555\"/>\n  </clipPath>\n  <clipPath id=\"p87799f5881\">\n   <rect height=\"63.169811\" width=\"63.169811\" x=\"541.326415\" y=\"35.7555\"/>\n  </clipPath>\n  <clipPath id=\"p770dc992d6\">\n   <rect height=\"63.169811\" width=\"63.169811\" x=\"617.130189\" y=\"35.7555\"/>\n  </clipPath>\n </defs>\n</svg>\n"
     },
     "metadata": {
      "needs_background": "light"
     }
    }
   ],
   "source": [
    "for X, y in test_iter:\n",
    "    break\n",
    "\n",
    "true_labels = d2l.get_fashion_mnist_labels(y.asnumpy())\n",
    "pred_labels = d2l.get_fashion_mnist_labels(net(X).argmax(axis=1).asnumpy())\n",
    "titles = [true + '\\n' + pred for true, pred in zip(true_labels, pred_labels)]\n",
    "\n",
    "d2l.show_fashion_mnist(X[0:9], titles[0:9])"
   ]
  },
  {
   "cell_type": "markdown",
   "metadata": {},
   "source": [
    "## 小结\n",
    " \n",
    "* 可以使用softmax回归做多类别分类。与训练线性回归相比，你会发现训练softmax回归的步骤和它非常相似：获取并读取数据、定义模型和损失函数并使用优化算法训练模型。事实上，绝大多数深度学习模型的训练都有着类似的步骤。\n",
    "\n",
    "## 练习\n",
    "\n",
    "* 在本节中，我们直接按照softmax运算的数学定义来实现softmax函数。这可能会造成什么问题？（提示：试一试计算$\\exp(50)$的大小。）\n",
    "* 本节中的`cross_entropy`函数是按照[“softmax回归”](softmax-regression.ipynb)一节中的交叉熵损失函数的数学定义实现的。这样的实现方式可能有什么问题？（提示：思考一下对数函数的定义域。）\n",
    "* 你能想到哪些办法来解决上面的两个问题？\n",
    "\n",
    "\n",
    "\n",
    "## 扫码直达[讨论区](https://discuss.gluon.ai/t/topic/741)\n",
    "\n",
    "![](../img/qr_softmax-regression-scratch.svg)"
   ]
  },
  {
   "cell_type": "code",
   "execution_count": 30,
   "metadata": {},
   "outputs": [
    {
     "output_type": "execute_result",
     "data": {
      "text/plain": [
       "5.184705528587072e+21"
      ]
     },
     "metadata": {},
     "execution_count": 30
    }
   ],
   "source": [
    "np.exp(50)"
   ]
  },
  {
   "cell_type": "code",
   "execution_count": null,
   "metadata": {},
   "outputs": [],
   "source": []
  }
 ],
 "metadata": {
  "language_info": {
   "name": "python",
   "version": "3.8.10"
  },
  "kernelspec": {
   "name": "python3",
   "display_name": "Python 3.8.10 64-bit ('d2l': conda)"
  },
  "interpreter": {
   "hash": "d94798bb7477fc0360516b43ebf4308aac7b1a8ee887cd4530ea9a0614785a8e"
  }
 },
 "nbformat": 4,
 "nbformat_minor": 2
}